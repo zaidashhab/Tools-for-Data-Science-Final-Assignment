{
 "cells": [
  {
   "cell_type": "markdown",
   "id": "09d15b80-5b85-4551-a8b4-ed02ef1bc5c0",
   "metadata": {},
   "source": [
    "# Data Science Tools and Ecosystem"
   ]
  },
  {
   "cell_type": "markdown",
   "id": "0d7d0595-abd4-4d78-ba77-7e0d22aea04a",
   "metadata": {},
   "source": [
    "#### In this notebook, Data Science Tools and Ecosystem are summarized. "
   ]
  },
  {
   "cell_type": "markdown",
   "id": "07cc3177-2c80-4c77-9e3c-91ab267dd661",
   "metadata": {},
   "source": [
    "__Objectives:__ \n",
    "- Popular languages that Data Scientists use\n",
    "- Commonly used libraries used by Data Scientists\n",
    "- Data Science Tools\n",
    "- A few examples of evaluating arithmetic expressions in Python"
   ]
  },
  {
   "cell_type": "markdown",
   "id": "85508a3f-d060-4bbd-a2f9-c7bce5244dd4",
   "metadata": {},
   "source": [
    "##### Some of the popular languages that Data Scientists use are:\r\n",
    "\n",
    "1. Python\n",
    "2. SQL\n",
    "3. R\n",
    "   "
   ]
  },
  {
   "cell_type": "markdown",
   "id": "05ece5f3-1589-4421-8962-63a74e7c7fe0",
   "metadata": {},
   "source": [
    "##### Some of the commonly used libraries used by Data Scientists include:\r\n",
    "1. Pandas\n",
    "2. scikit-learn\n",
    "3. numpy\n",
    "4. Pytorch\n"
   ]
  },
  {
   "cell_type": "markdown",
   "id": "4fae3bb0-d0d8-41eb-b752-ce86deed54c1",
   "metadata": {},
   "source": [
    "| Data Science Tools | \r\n",
    "|-----|\r",
    "Apache Sparkck\n",
    "|Hadoops\n",
    "|Jupyter Notebook| |\r\n"
   ]
  },
  {
   "cell_type": "code",
   "execution_count": 7,
   "id": "739121d7-e2a7-4aec-90ba-5062703a1616",
   "metadata": {},
   "outputs": [
    {
     "data": {
      "text/html": [
       "<style>\n",
       "table {float:left}\n",
       "</style>\n"
      ],
      "text/plain": [
       "<IPython.core.display.HTML object>"
      ]
     },
     "metadata": {},
     "output_type": "display_data"
    }
   ],
   "source": [
    "%%html\n",
    "<style>\n",
    "table {float:left}\n",
    "</style>"
   ]
  },
  {
   "cell_type": "markdown",
   "id": "3e154276-d9e2-4280-a67a-fa431de990f0",
   "metadata": {},
   "source": [
    "### Below are a few examples of evaluating arithmetic expressions in Python"
   ]
  },
  {
   "cell_type": "code",
   "execution_count": 8,
   "id": "0b78c4d4-8415-4536-8e05-49edc604d154",
   "metadata": {},
   "outputs": [
    {
     "name": "stdout",
     "output_type": "stream",
     "text": [
      "17\n"
     ]
    }
   ],
   "source": [
    "#This a simple arithmetic expression to mutiply then add integers\n",
    "print((3*4)+5)"
   ]
  },
  {
   "cell_type": "code",
   "execution_count": 9,
   "id": "27113363-5f08-407d-896d-3516c8f5949e",
   "metadata": {},
   "outputs": [
    {
     "name": "stdout",
     "output_type": "stream",
     "text": [
      "200 minutes is equal to 3.3333333333333335 hours\n"
     ]
    }
   ],
   "source": [
    "#This will convert 200 minutes to hours by diving by 60\n",
    "# Define the number of minutes\n",
    "minutes = 200\n",
    "\n",
    "# Convert minutes to hours\n",
    "hours = minutes / 60\n",
    "\n",
    "# Print the result\n",
    "print(f\"{minutes} minutes is equal to {hours} hours\")\n"
   ]
  },
  {
   "cell_type": "markdown",
   "id": "e2021f42-7340-4eef-95c4-2c9fbc343cac",
   "metadata": {},
   "source": [
    "## Author\n",
    "Zaid Al-Ashhab"
   ]
  }
 ],
 "metadata": {
  "kernelspec": {
   "display_name": "Python 3 (ipykernel)",
   "language": "python",
   "name": "python3"
  },
  "language_info": {
   "codemirror_mode": {
    "name": "ipython",
    "version": 3
   },
   "file_extension": ".py",
   "mimetype": "text/x-python",
   "name": "python",
   "nbconvert_exporter": "python",
   "pygments_lexer": "ipython3",
   "version": "3.11.7"
  }
 },
 "nbformat": 4,
 "nbformat_minor": 5
}
